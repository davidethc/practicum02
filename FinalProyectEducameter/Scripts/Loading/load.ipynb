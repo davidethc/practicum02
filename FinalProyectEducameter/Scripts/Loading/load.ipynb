{
 "cells": [
  {
   "cell_type": "markdown",
   "id": "bd95ca48",
   "metadata": {},
   "source": [
    "# 🚚 Proceso de Carga de Datos\n",
    "\n",
    "Este notebook se encarga de **almacenar los datos limpios** en una base de datos o archivo final (CSV, SQLite, etc.) que será usado por los procesos de análisis y visualización.\n",
    "\n",
    "## ✳️ Librerías necesarias\n"
   ]
  },
  {
   "cell_type": "code",
   "execution_count": null,
   "id": "6dc15e5d",
   "metadata": {},
   "outputs": [],
   "source": [
    "import pandas as pd"
   ]
  },
  {
   "cell_type": "code",
   "execution_count": null,
   "id": "384ad0cf",
   "metadata": {},
   "outputs": [
    {
     "name": "stdout",
     "output_type": "stream",
     "text": [
      "\n",
      "Tipos de datos después de la conversión:\n",
      "qr_code                       int64\n",
      "id                            int64\n",
      "fecha                datetime64[ns]\n",
      "det                          object\n",
      "nombre_docente               object\n",
      "nombre_asignatura            object\n",
      "result_id                     int64\n",
      "feliz                         int64\n",
      "interesado                    int64\n",
      "motivado                      int64\n",
      "entusiasmado                  int64\n",
      "preocupado                    int64\n",
      "temeroso                      int64\n",
      "triste                        int64\n",
      "cansado                       int64\n",
      "UIDE                         object\n",
      "numrandom                     int64\n",
      "rn                            int64\n",
      "dtype: object\n",
      "\n",
      "✅ Archivo limpio guardado exitosamente en:\n",
      "/Users/monky02/Desktop/FP/Data/Source/TablaUnificada/TablasAnalisisJoin_transformado_limpio.csv\n"
     ]
    }
   ],
   "source": [
    "\n",
    "\n",
    "# Cargar el archivo CSV original\n",
    "df_TablaAnalisis = pd.read_csv(\"/Users/monky02/Desktop/FP/Data/Source/TablaUnificada/TablasAnalisisJoin_transformado.csv\")\n",
    "\n",
    "# Filtrar filas donde qr_code != 0 (eliminar filas inválidas)\n",
    "df_TablaAnalisis = df_TablaAnalisis[df_TablaAnalisis['qr_code'] != 0].copy()\n",
    "\n",
    "# Lista de columnas float que deben convertirse a enteros\n",
    "columnas_a_convertir = [\n",
    "    'qr_code', 'id', 'result_id', 'feliz', 'interesado',\n",
    "    'motivado', 'entusiasmado', 'preocupado', 'temeroso',\n",
    "    'triste', 'cansado', 'numrandom'\n",
    "]\n",
    "\n",
    "# Convertir columnas float a int (llenando NaN con 0)\n",
    "for col in columnas_a_convertir:\n",
    "    if col in df_TablaAnalisis.columns:\n",
    "        df_TablaAnalisis[col] = df_TablaAnalisis[col].fillna(0).astype(int)\n",
    "\n",
    "# Convertir columna de fecha a datetime\n",
    "if 'fecha' in df_TablaAnalisis.columns:\n",
    "    df_TablaAnalisis['fecha'] = pd.to_datetime(df_TablaAnalisis['fecha'], errors='coerce')\n",
    "\n",
    "# Mostrar tipos de datos después de la conversión\n",
    "print(\"\\nTipos de datos después de la conversión:\")\n",
    "print(df_TablaAnalisis.dtypes)\n",
    "\n",
    "# Guardar el nuevo DataFrame limpio en un nuevo archivo CSV\n",
    "ruta_salida = \"/Users/monky02/Desktop/FP/Data/Source/TablaUnificada/TablasAnalisisJoin_transformado_limpio.csv\"\n",
    "df_TablaAnalisis.to_csv(ruta_salida, index=False, encoding='utf-8')\n",
    "\n",
    "print(f\"\\n✅ Archivo limpio guardado exitosamente en:\\n{ruta_salida}\")\n"
   ]
  },
  {
   "cell_type": "code",
   "execution_count": null,
   "id": "acb7ce11",
   "metadata": {},
   "outputs": [
    {
     "name": "stdout",
     "output_type": "stream",
     "text": [
      "Dimensiones: (13403, 18)\n",
      "Columnas: Index(['qr_code', 'id', 'fecha', 'det', 'nombre_docente', 'nombre_asignatura',\n",
      "       'result_id', 'feliz', 'interesado', 'motivado', 'entusiasmado',\n",
      "       'preocupado', 'temeroso', 'triste', 'cansado', 'UIDE', 'numrandom',\n",
      "       'rn'],\n",
      "      dtype='object')\n",
      "Tipos de datos:\n",
      "qr_code               int64\n",
      "id                    int64\n",
      "fecha                object\n",
      "det                  object\n",
      "nombre_docente       object\n",
      "nombre_asignatura    object\n",
      "result_id             int64\n",
      "feliz                 int64\n",
      "interesado            int64\n",
      "motivado              int64\n",
      "entusiasmado          int64\n",
      "preocupado            int64\n",
      "temeroso              int64\n",
      "triste                int64\n",
      "cansado               int64\n",
      "UIDE                 object\n",
      "numrandom             int64\n",
      "rn                    int64\n",
      "dtype: object\n"
     ]
    }
   ],
   "source": [
    "\n",
    "df_TablaAnalisis = pd.read_csv(\"/Users/monky02/Desktop/FP/Data/Source/TablaUnificada/TablasAnalisisJoin_transformado_limpio.csv\")\n",
    "df_TablaAnalisis.head()\n",
    "# Ver cuántas filas y columnas hay\n",
    "print(\"Dimensiones:\", df_TablaAnalisis.shape)\n",
    "\n",
    "# Ver columnas\n",
    "print(\"Columnas:\", df_TablaAnalisis.columns)\n",
    "\n",
    "# Ver tipos de datos\n",
    "print(\"Tipos de datos:\")\n",
    "print(df_TablaAnalisis.dtypes)\n"
   ]
  },
  {
   "cell_type": "code",
   "execution_count": 50,
   "id": "5e636e97",
   "metadata": {},
   "outputs": [
    {
     "name": "stdout",
     "output_type": "stream",
     "text": [
      "<class 'pandas.core.frame.DataFrame'>\n",
      "RangeIndex: 13403 entries, 0 to 13402\n",
      "Data columns (total 18 columns):\n",
      " #   Column             Non-Null Count  Dtype \n",
      "---  ------             --------------  ----- \n",
      " 0   qr_code            13403 non-null  int64 \n",
      " 1   id                 13403 non-null  int64 \n",
      " 2   fecha              13403 non-null  object\n",
      " 3   det                79 non-null     object\n",
      " 4   nombre_docente     13403 non-null  object\n",
      " 5   nombre_asignatura  13403 non-null  object\n",
      " 6   result_id          13403 non-null  int64 \n",
      " 7   feliz              13403 non-null  int64 \n",
      " 8   interesado         13403 non-null  int64 \n",
      " 9   motivado           13403 non-null  int64 \n",
      " 10  entusiasmado       13403 non-null  int64 \n",
      " 11  preocupado         13403 non-null  int64 \n",
      " 12  temeroso           13403 non-null  int64 \n",
      " 13  triste             13403 non-null  int64 \n",
      " 14  cansado            13403 non-null  int64 \n",
      " 15  UIDE               3600 non-null   object\n",
      " 16  numrandom          13403 non-null  int64 \n",
      " 17  rn                 13403 non-null  int64 \n",
      "dtypes: int64(13), object(5)\n",
      "memory usage: 1.8+ MB\n"
     ]
    }
   ],
   "source": [
    "df_TablaAnalisis.info()\n",
    "\n"
   ]
  },
  {
   "cell_type": "code",
   "execution_count": 53,
   "id": "e4ff2805",
   "metadata": {},
   "outputs": [
    {
     "name": "stdout",
     "output_type": "stream",
     "text": [
      "1. Materias únicas: 162\n",
      "2. Docentes únicos: 107\n",
      "3. QR Codes únicos: 896\n",
      "4. numrandom únicos: 896\n",
      "\n",
      "3. Top 5 materias más evaluadas:\n",
      "nombre_asignatura\n",
      "Relaciones publicas                   718\n",
      "Arte y cultura                        401\n",
      "Sociologia (mad)                      349\n",
      "Practicum 2 oct21-feb22               296\n",
      "Procesos de ingenieria de software    284\n",
      "Name: count, dtype: int64\n",
      "\n",
      "4. Top 5 docentes más evaluados:\n",
      "nombre_docente\n",
      "Karen cesibel valdiviezo abad     718\n",
      "Carlos javier vasquez monteros    695\n",
      "Silvia elena malo martinez        597\n",
      "Ana dolores verdu delgado         502\n",
      "Jessica andrea ordonez cuenca     444\n",
      "Name: count, dtype: int64\n"
     ]
    }
   ],
   "source": [
    " # 1. Materias únicas\n",
    "materias_unicas = df_TablaAnalisis['nombre_asignatura'].nunique()\n",
    "print(f\"1. Materias únicas: {materias_unicas}\")\n",
    "\n",
    "# 2. Docentes únicos\n",
    "docentes_unicos = df_TablaAnalisis['nombre_docente'].nunique()\n",
    "print(f\"2. Docentes únicos: {docentes_unicos}\")\n",
    "\n",
    "# 3. qr_code únicos\n",
    "qr_code_unicos = df_TablaAnalisis['qr_code'].nunique()\n",
    "print(f\"3. QR Codes únicos: {qr_code_unicos}\")\n",
    "\n",
    "# 4. numrandom únicos\n",
    "numrandom_unicos = df_TablaAnalisis['numrandom'].nunique()\n",
    "print(f\"4. numrandom únicos: {numrandom_unicos}\")\n",
    "\n",
    "# 5. Top 5 materias más frecuentes\n",
    "print(\"\\n3. Top 5 materias más evaluadas:\")\n",
    "print(df_TablaAnalisis['nombre_asignatura'].value_counts().head(5))\n",
    "\n",
    "# 6. Top 5 docentes con más registros\n",
    "print(\"\\n4. Top 5 docentes más evaluados:\")\n",
    "print(df_TablaAnalisis['nombre_docente'].value_counts().head(5))\n",
    "\n"
   ]
  },
  {
   "cell_type": "code",
   "execution_count": null,
   "id": "907563f3",
   "metadata": {},
   "outputs": [],
   "source": []
  }
 ],
 "metadata": {
  "kernelspec": {
   "display_name": "Python 3",
   "language": "python",
   "name": "python3"
  },
  "language_info": {
   "codemirror_mode": {
    "name": "ipython",
    "version": 3
   },
   "file_extension": ".py",
   "mimetype": "text/x-python",
   "name": "python",
   "nbconvert_exporter": "python",
   "pygments_lexer": "ipython3",
   "version": "3.12.10"
  }
 },
 "nbformat": 4,
 "nbformat_minor": 5
}
